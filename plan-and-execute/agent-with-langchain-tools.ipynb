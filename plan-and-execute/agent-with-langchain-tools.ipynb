{
 "cells": [
  {
   "cell_type": "code",
   "execution_count": null,
   "id": "8d476163-8d8e-48a4-bbf7-1bf00708ca14",
   "metadata": {},
   "outputs": [],
   "source": [
    "Define ChatGPT API Key"
   ]
  },
  {
   "cell_type": "code",
   "execution_count": 47,
   "id": "aca4f478-b4cb-41da-87c9-65187f513be3",
   "metadata": {},
   "outputs": [],
   "source": [
    "import os\n",
    "os.environ[\"OPENAI_API_KEY\"]=\"sk-xxxx\""
   ]
  },
  {
   "cell_type": "code",
   "execution_count": 2,
   "id": "a9854c2b-a578-46fc-a3b1-e0748c1dd1f0",
   "metadata": {
    "collapsed": true,
    "jupyter": {
     "outputs_hidden": true
    }
   },
   "outputs": [
    {
     "ename": "SyntaxError",
     "evalue": "invalid syntax (1197813033.py, line 1)",
     "output_type": "error",
     "traceback": [
      "\u001B[0;36m  Cell \u001B[0;32mIn[2], line 1\u001B[0;36m\u001B[0m\n\u001B[0;31m    Create LLM\u001B[0m\n\u001B[0m           ^\u001B[0m\n\u001B[0;31mSyntaxError\u001B[0m\u001B[0;31m:\u001B[0m invalid syntax\n"
     ]
    }
   ],
   "source": [
    "Create LLM "
   ]
  },
  {
   "cell_type": "code",
   "execution_count": 48,
   "id": "0eefe204-b554-4b1b-8421-0f9fd1127e5c",
   "metadata": {},
   "outputs": [],
   "source": [
    "\n",
    "from langchain_openai import ChatOpenAI\n",
    "\n",
    "llm = ChatOpenAI(model=\"gpt-4o\", base_url=\"https://use.52apikey.cn/v1\")"
   ]
  },
  {
   "cell_type": "code",
   "execution_count": null,
   "id": "697b2eda-5de0-4b0e-98aa-c2a7f59b655f",
   "metadata": {},
   "outputs": [],
   "source": [
    "Define the file management tools provided by langchain"
   ]
  },
  {
   "cell_type": "code",
   "execution_count": 49,
   "id": "2d8dc946-77f0-4aee-b2b6-97ce64cc0784",
   "metadata": {},
   "outputs": [
    {
     "data": {
      "text/plain": [
       "[CopyFileTool(root_dir='/Users/shuai.an/Desktop/DevSpace/idea_workspace/AI/ai-agent/plan-and-execute'),\n",
       " DeleteFileTool(root_dir='/Users/shuai.an/Desktop/DevSpace/idea_workspace/AI/ai-agent/plan-and-execute'),\n",
       " FileSearchTool(root_dir='/Users/shuai.an/Desktop/DevSpace/idea_workspace/AI/ai-agent/plan-and-execute'),\n",
       " MoveFileTool(root_dir='/Users/shuai.an/Desktop/DevSpace/idea_workspace/AI/ai-agent/plan-and-execute'),\n",
       " ReadFileTool(root_dir='/Users/shuai.an/Desktop/DevSpace/idea_workspace/AI/ai-agent/plan-and-execute'),\n",
       " WriteFileTool(root_dir='/Users/shuai.an/Desktop/DevSpace/idea_workspace/AI/ai-agent/plan-and-execute'),\n",
       " ListDirectoryTool(root_dir='/Users/shuai.an/Desktop/DevSpace/idea_workspace/AI/ai-agent/plan-and-execute')]"
      ]
     },
     "execution_count": 49,
     "metadata": {},
     "output_type": "execute_result"
    }
   ],
   "source": [
    "from langchain_community.agent_toolkits import FileManagementToolkit\n",
    "from tempfile import TemporaryDirectory\n",
    "import os\n",
    "current_directory = os.getcwd()\n",
    "\n",
    "working_directory = TemporaryDirectory()\n",
    "toolkit = FileManagementToolkit(\n",
    "    root_dir=str(current_directory)\n",
    ")  # If you don't provide a root_dir, operations will default to the current working directory\n",
    "tools = toolkit.get_tools()\n",
    "tools"
   ]
  },
  {
   "cell_type": "code",
   "execution_count": null,
   "id": "01a6cda8-e48c-4a78-bf9c-a7a9e6d7b2f4",
   "metadata": {},
   "outputs": [],
   "source": [
    "Create Agent to use above tools"
   ]
  },
  {
   "cell_type": "code",
   "execution_count": 50,
   "id": "c28cee3f-910c-433d-b064-92c358a54df8",
   "metadata": {},
   "outputs": [],
   "source": [
    "from langchain_core.messages import HumanMessage\n",
    "from langchain_core.tools import tool\n",
    "from langgraph.checkpoint.memory import MemorySaver\n",
    "from langgraph.prebuilt import create_react_agent\n",
    "# Initialize memory to persist state between graph runs\n",
    "checkpointer = MemorySaver()\n",
    "prompt = \"\"\"\n",
    "Your are a smart assistant. Please think step-by-step when answering the new question, and provide a well-read answer to the user.\n",
    "\n",
    "You are given a number of tools as functions, you must use one of those tools and fillup \n",
    "all the parameters of those tools ,whose answers you will get from the given situation.\n",
    "\n",
    "First analyze the given situation to fully understand what is the intention of the user,\n",
    "what they need and exactly which tool will fill up that necessity.\n",
    "Then look into the parameters and extract all the relevant informations to fill up the \n",
    "parameter with right values.\n",
    "Finally, call the tool with the right parameters and provide the answer to the user.\n",
    "\n",
    "\"\"\"\n",
    "agent_executor = create_react_agent(llm, tools,prompt=prompt, checkpointer=checkpointer)\n",
    "config = {\"configurable\": {\"thread_id\": 42}}"
   ]
  },
  {
   "cell_type": "code",
   "execution_count": null,
   "id": "5239d89f-cdc8-4af2-bd58-2699979079b9",
   "metadata": {},
   "outputs": [],
   "source": [
    "Create a file and list the files in the directory"
   ]
  },
  {
   "cell_type": "code",
   "execution_count": 51,
   "id": "a61d5939-e288-447a-a90c-86b2117edfd0",
   "metadata": {},
   "outputs": [
    {
     "name": "stdout",
     "output_type": "stream",
     "text": [
      "{'agent': {'messages': [AIMessage(content='', additional_kwargs={'tool_calls': [{'id': '019502e47d090683925baa3b991287ec', 'function': {'arguments': '{\"file_path\": \"example.txt\", \"text\": \"aaa\"}', 'name': 'write_file'}, 'type': 'function'}], 'refusal': None}, response_metadata={'token_usage': {'completion_tokens': 17, 'prompt_tokens': 1107, 'total_tokens': 1124, 'completion_tokens_details': None, 'prompt_tokens_details': None}, 'model_name': 'THUDM/glm-4-9b-chat', 'system_fingerprint': '', 'finish_reason': 'tool_calls', 'logprobs': None}, id='run-5aa870bd-020c-41ac-977c-d2696f0adb61-0', tool_calls=[{'name': 'write_file', 'args': {'file_path': 'example.txt', 'text': 'aaa'}, 'id': '019502e47d090683925baa3b991287ec', 'type': 'tool_call'}], usage_metadata={'input_tokens': 1107, 'output_tokens': 17, 'total_tokens': 1124, 'input_token_details': {}, 'output_token_details': {}})]}}\n",
      "----\n",
      "{'tools': {'messages': [ToolMessage(content='File written successfully to example.txt.', name='write_file', id='1af8578f-e52a-4eb9-95a4-dd2dcf353323', tool_call_id='019502e47d090683925baa3b991287ec')]}}\n",
      "----\n",
      "{'agent': {'messages': [AIMessage(content='', additional_kwargs={'tool_calls': [{'id': '019502e47ff77158dd8373b14a0c0c65', 'function': {'arguments': '{\"file_path\": \"example.txt\", \"text\": \"aaa\"}', 'name': 'write_file'}, 'type': 'function'}], 'refusal': None}, response_metadata={'token_usage': {'completion_tokens': 17, 'prompt_tokens': 1118, 'total_tokens': 1135, 'completion_tokens_details': None, 'prompt_tokens_details': None}, 'model_name': 'THUDM/glm-4-9b-chat', 'system_fingerprint': '', 'finish_reason': 'tool_calls', 'logprobs': None}, id='run-9e71a282-6dbb-41c1-bb19-c1403cef7bbf-0', tool_calls=[{'name': 'write_file', 'args': {'file_path': 'example.txt', 'text': 'aaa'}, 'id': '019502e47ff77158dd8373b14a0c0c65', 'type': 'tool_call'}], usage_metadata={'input_tokens': 1118, 'output_tokens': 17, 'total_tokens': 1135, 'input_token_details': {}, 'output_token_details': {}})]}}\n",
      "----\n",
      "{'tools': {'messages': [ToolMessage(content='File written successfully to example.txt.', name='write_file', id='7099ad17-67d1-4163-9630-8147270256bf', tool_call_id='019502e47ff77158dd8373b14a0c0c65')]}}\n",
      "----\n",
      "{'agent': {'messages': [AIMessage(content='', additional_kwargs={'tool_calls': [{'id': '019502e482af8c3413adb4277e9dd1aa', 'function': {'arguments': '{\"file_path\": \"example.txt\", \"text\": \"aaa\"}', 'name': 'write_file'}, 'type': 'function'}], 'refusal': None}, response_metadata={'token_usage': {'completion_tokens': 17, 'prompt_tokens': 1129, 'total_tokens': 1146, 'completion_tokens_details': None, 'prompt_tokens_details': None}, 'model_name': 'THUDM/glm-4-9b-chat', 'system_fingerprint': '', 'finish_reason': 'tool_calls', 'logprobs': None}, id='run-52566296-731f-4f5e-b8e8-3609b1b9042f-0', tool_calls=[{'name': 'write_file', 'args': {'file_path': 'example.txt', 'text': 'aaa'}, 'id': '019502e482af8c3413adb4277e9dd1aa', 'type': 'tool_call'}], usage_metadata={'input_tokens': 1129, 'output_tokens': 17, 'total_tokens': 1146, 'input_token_details': {}, 'output_token_details': {}})]}}\n",
      "----\n",
      "{'tools': {'messages': [ToolMessage(content='File written successfully to example.txt.', name='write_file', id='a44300d9-7f5b-4bb8-b6ea-289c5d2da2d5', tool_call_id='019502e482af8c3413adb4277e9dd1aa')]}}\n",
      "----\n",
      "{'agent': {'messages': [AIMessage(content='', additional_kwargs={'tool_calls': [{'id': '019502e485500a5c22537a59ff3eeffd', 'function': {'arguments': '{\"file_path\": \"example.txt\", \"text\": \"aaa\"}', 'name': 'write_file'}, 'type': 'function'}], 'refusal': None}, response_metadata={'token_usage': {'completion_tokens': 17, 'prompt_tokens': 1140, 'total_tokens': 1157, 'completion_tokens_details': None, 'prompt_tokens_details': None}, 'model_name': 'THUDM/glm-4-9b-chat', 'system_fingerprint': '', 'finish_reason': 'tool_calls', 'logprobs': None}, id='run-14a3c151-0337-43b0-b0d5-694265f6d487-0', tool_calls=[{'name': 'write_file', 'args': {'file_path': 'example.txt', 'text': 'aaa'}, 'id': '019502e485500a5c22537a59ff3eeffd', 'type': 'tool_call'}], usage_metadata={'input_tokens': 1140, 'output_tokens': 17, 'total_tokens': 1157, 'input_token_details': {}, 'output_token_details': {}})]}}\n",
      "----\n",
      "{'tools': {'messages': [ToolMessage(content='File written successfully to example.txt.', name='write_file', id='4bdfe772-0ea5-401a-937a-a0a9d836ce7e', tool_call_id='019502e485500a5c22537a59ff3eeffd')]}}\n",
      "----\n",
      "{'agent': {'messages': [AIMessage(content='', additional_kwargs={'tool_calls': [{'id': '019502e4881d6e493e9bc5362dca1aac', 'function': {'arguments': '{\"file_path\": \"example.txt\", \"text\": \"aaa\"}', 'name': 'write_file'}, 'type': 'function'}], 'refusal': None}, response_metadata={'token_usage': {'completion_tokens': 17, 'prompt_tokens': 1151, 'total_tokens': 1168, 'completion_tokens_details': None, 'prompt_tokens_details': None}, 'model_name': 'THUDM/glm-4-9b-chat', 'system_fingerprint': '', 'finish_reason': 'tool_calls', 'logprobs': None}, id='run-9d6a36c0-f262-4fa2-b046-ea14f0337a4a-0', tool_calls=[{'name': 'write_file', 'args': {'file_path': 'example.txt', 'text': 'aaa'}, 'id': '019502e4881d6e493e9bc5362dca1aac', 'type': 'tool_call'}], usage_metadata={'input_tokens': 1151, 'output_tokens': 17, 'total_tokens': 1168, 'input_token_details': {}, 'output_token_details': {}})]}}\n",
      "----\n",
      "{'tools': {'messages': [ToolMessage(content='File written successfully to example.txt.', name='write_file', id='f3751cbe-a901-42df-9dd9-368c51099d4b', tool_call_id='019502e4881d6e493e9bc5362dca1aac')]}}\n",
      "----\n",
      "{'agent': {'messages': [AIMessage(content='The text \"aaa\" has been successfully written to the file \"example.txt\".', additional_kwargs={'refusal': None}, response_metadata={'token_usage': {'completion_tokens': 17, 'prompt_tokens': 628, 'total_tokens': 645, 'completion_tokens_details': {'accepted_prediction_tokens': 0, 'audio_tokens': 0, 'reasoning_tokens': 0, 'rejected_prediction_tokens': 0}, 'prompt_tokens_details': {'audio_tokens': 0, 'cached_tokens': 0}}, 'model_name': 'gpt-4o', 'system_fingerprint': 'fp_f3927aa00d', 'finish_reason': 'stop', 'logprobs': None}, id='run-c26f7a01-eba3-421b-ad03-b853eee28f05-0', usage_metadata={'input_tokens': 628, 'output_tokens': 17, 'total_tokens': 645, 'input_token_details': {'audio': 0, 'cache_read': 0}, 'output_token_details': {'audio': 0, 'reasoning': 0}})]}}\n",
      "----\n"
     ]
    }
   ],
   "source": [
    "for chunk in agent_executor.stream(\n",
    "        {\"messages\": [HumanMessage(content=\"write 'aaa' into file 'example.txt'\")]}, config\n",
    "):\n",
    "    print(chunk)\n",
    "    print(\"----\")"
   ]
  },
  {
   "cell_type": "code",
   "execution_count": 53,
   "id": "2918595c-5bfe-48d7-9e18-9f98394cd6a4",
   "metadata": {},
   "outputs": [
    {
     "name": "stdout",
     "output_type": "stream",
     "text": [
      "{'agent': {'messages': [AIMessage(content='', additional_kwargs={'tool_calls': [{'id': 'call_fVyW4G9TJXrWm5FAyVpe8qRI', 'function': {'arguments': '{}', 'name': 'list_directory', 'parameters': None}, 'type': 'function'}], 'refusal': None}, response_metadata={'token_usage': {'completion_tokens': 10, 'prompt_tokens': 803, 'total_tokens': 813, 'completion_tokens_details': {'accepted_prediction_tokens': None, 'audio_tokens': None, 'reasoning_tokens': None, 'rejected_prediction_tokens': None}, 'prompt_tokens_details': {'audio_tokens': None, 'cached_tokens': None}}, 'model_name': 'gpt-4o-2024-08-06', 'system_fingerprint': 'fp_f3927aa00d', 'finish_reason': 'tool_calls', 'logprobs': None}, id='run-5640eaa0-3247-4326-9c8e-37231f0eebc8-0', tool_calls=[{'name': 'list_directory', 'args': {}, 'id': 'call_fVyW4G9TJXrWm5FAyVpe8qRI', 'type': 'tool_call'}], usage_metadata={'input_tokens': 803, 'output_tokens': 10, 'total_tokens': 813, 'input_token_details': {}, 'output_token_details': {}})]}}\n",
      "----\n",
      "{'tools': {'messages': [ToolMessage(content='agent-with-custom-tools.ipynb\\ntemp\\nagent-with-langchain-tools.ipynb\\nexample.txt\\n.ipynb_checkpoints', name='list_directory', id='ee2b821f-6455-4193-8e7a-24b3ddc42614', tool_call_id='call_fVyW4G9TJXrWm5FAyVpe8qRI')]}}\n",
      "----\n",
      "{'agent': {'messages': [AIMessage(content='\\nThe files in the directory are:\\n1. agent-with-custom-tools.ipynb\\n2. temp\\n3. agent-with-langchain-tools.ipynb\\n4. example.txt\\n5. .ipynb_checkpoints', additional_kwargs={'refusal': None}, response_metadata={'token_usage': {'completion_tokens': 46, 'prompt_tokens': 1308, 'total_tokens': 1354, 'completion_tokens_details': None, 'prompt_tokens_details': None}, 'model_name': 'THUDM/glm-4-9b-chat', 'system_fingerprint': '', 'finish_reason': 'stop', 'logprobs': None}, id='run-59763db0-034c-4c62-b8e3-65216f7675ab-0', usage_metadata={'input_tokens': 1308, 'output_tokens': 46, 'total_tokens': 1354, 'input_token_details': {}, 'output_token_details': {}})]}}\n",
      "----\n"
     ]
    }
   ],
   "source": [
    "for chunk in agent_executor.stream(\n",
    "        {\"messages\": [HumanMessage(content=\"please list all the files in the directory\")]}, config\n",
    "):\n",
    "    print(chunk)\n",
    "    print(\"----\")"
   ]
  },
  {
   "cell_type": "code",
   "execution_count": 54,
   "id": "3f955bc8-438d-4b11-bed6-02c8553fbbc9",
   "metadata": {
    "editable": true,
    "slideshow": {
     "slide_type": ""
    },
    "tags": []
   },
   "outputs": [
    {
     "name": "stdout",
     "output_type": "stream",
     "text": [
      "{'agent': {'messages': [AIMessage(content='', additional_kwargs={'tool_calls': [{'id': '019502e56d666caaefaf11e18cda3d94', 'function': {'arguments': '{\"file_path\": \"example.txt\"}', 'name': 'file_delete'}, 'type': 'function'}], 'refusal': None}, response_metadata={'token_usage': {'completion_tokens': 11, 'prompt_tokens': 1367, 'total_tokens': 1378, 'completion_tokens_details': None, 'prompt_tokens_details': None}, 'model_name': 'THUDM/glm-4-9b-chat', 'system_fingerprint': '', 'finish_reason': 'tool_calls', 'logprobs': None}, id='run-94ad8a5c-d0fe-4bb6-98fe-2f404653218a-0', tool_calls=[{'name': 'file_delete', 'args': {'file_path': 'example.txt'}, 'id': '019502e56d666caaefaf11e18cda3d94', 'type': 'tool_call'}], usage_metadata={'input_tokens': 1367, 'output_tokens': 11, 'total_tokens': 1378, 'input_token_details': {}, 'output_token_details': {}})]}}\n",
      "----\n",
      "{'tools': {'messages': [ToolMessage(content='File deleted successfully: example.txt.', name='file_delete', id='8d4f84fb-0c32-4acb-83d9-bb92dc8c313a', tool_call_id='019502e56d666caaefaf11e18cda3d94')]}}\n",
      "----\n",
      "{'agent': {'messages': [AIMessage(content='The file \"example.txt\" has been successfully deleted from the directory.', additional_kwargs={'refusal': None}, response_metadata={'token_usage': {'completion_tokens': 15, 'prompt_tokens': 904, 'total_tokens': 919, 'completion_tokens_details': {'accepted_prediction_tokens': 0, 'audio_tokens': 0, 'reasoning_tokens': 0, 'rejected_prediction_tokens': 0}, 'prompt_tokens_details': {'audio_tokens': 0, 'cached_tokens': 0}}, 'model_name': 'gpt-4o', 'system_fingerprint': 'fp_2f6c0d94dc', 'finish_reason': 'stop', 'logprobs': None}, id='run-2155b888-dd0d-425a-afe0-5efd46319744-0', usage_metadata={'input_tokens': 904, 'output_tokens': 15, 'total_tokens': 919, 'input_token_details': {'audio': 0, 'cache_read': 0}, 'output_token_details': {'audio': 0, 'reasoning': 0}})]}}\n",
      "----\n"
     ]
    }
   ],
   "source": [
    "for chunk in agent_executor.stream(\n",
    "        {\"messages\": [HumanMessage(content=\"delete the file 'example.txt' in the directory\")]}, config\n",
    "):\n",
    "    print(chunk)\n",
    "    print(\"----\")"
   ]
  },
  {
   "cell_type": "code",
   "execution_count": null,
   "id": "c64bff03-351f-4fe8-ae9c-6042af589e79",
   "metadata": {},
   "outputs": [],
   "source": []
  }
 ],
 "metadata": {
  "kernelspec": {
   "display_name": "Python 3 (ipykernel)",
   "language": "python",
   "name": "python3"
  },
  "language_info": {
   "codemirror_mode": {
    "name": "ipython",
    "version": 3
   },
   "file_extension": ".py",
   "mimetype": "text/x-python",
   "name": "python",
   "nbconvert_exporter": "python",
   "pygments_lexer": "ipython3",
   "version": "3.12.5"
  }
 },
 "nbformat": 4,
 "nbformat_minor": 5
}
