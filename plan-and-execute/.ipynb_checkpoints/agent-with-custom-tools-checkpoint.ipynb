{
 "cells": [
  {
   "cell_type": "code",
   "execution_count": null,
   "id": "8d476163-8d8e-48a4-bbf7-1bf00708ca14",
   "metadata": {},
   "outputs": [],
   "source": [
    "Define ChatGPT API Key"
   ]
  },
  {
   "cell_type": "code",
   "execution_count": 1,
   "id": "aca4f478-b4cb-41da-87c9-65187f513be3",
   "metadata": {
    "jupyter": {
     "source_hidden": true
    }
   },
   "outputs": [],
   "source": [
    "import os\n",
    "os.environ[\"OPENAI_API_KEY\"]=\"sk-xxx\""
   ]
  },
  {
   "cell_type": "code",
   "execution_count": 2,
   "id": "a9854c2b-a578-46fc-a3b1-e0748c1dd1f0",
   "metadata": {
    "collapsed": true,
    "jupyter": {
     "outputs_hidden": true
    }
   },
   "outputs": [
    {
     "ename": "SyntaxError",
     "evalue": "invalid syntax (1197813033.py, line 1)",
     "output_type": "error",
     "traceback": [
      "\u001b[0;36m  Cell \u001b[0;32mIn[2], line 1\u001b[0;36m\u001b[0m\n\u001b[0;31m    Create LLM\u001b[0m\n\u001b[0m           ^\u001b[0m\n\u001b[0;31mSyntaxError\u001b[0m\u001b[0;31m:\u001b[0m invalid syntax\n"
     ]
    }
   ],
   "source": [
    "Create LLM "
   ]
  },
  {
   "cell_type": "code",
   "execution_count": 2,
   "id": "0eefe204-b554-4b1b-8421-0f9fd1127e5c",
   "metadata": {},
   "outputs": [],
   "source": [
    "from langchain_openai import ChatOpenAI\n",
    "\n",
    "llm = ChatOpenAI(model=\"gpt-4o\", base_url=\"https://use.52apikey.cn/v1\")"
   ]
  },
  {
   "cell_type": "code",
   "execution_count": null,
   "id": "697b2eda-5de0-4b0e-98aa-c2a7f59b655f",
   "metadata": {},
   "outputs": [],
   "source": [
    "Define custom tools"
   ]
  },
  {
   "cell_type": "code",
   "execution_count": 3,
   "id": "2d8dc946-77f0-4aee-b2b6-97ce64cc0784",
   "metadata": {},
   "outputs": [],
   "source": [
    "from langchain_core.tools import tool\n",
    "# Define the tools for the agent to use\n",
    "@tool\n",
    "def search_temperature(location: str):\n",
    "    \"\"\"Search today's temperature according to the location.\"\"\"\n",
    "    if location == \"Shenzhen\":\n",
    "        return 19\n",
    "    if location == \"Dalian\":\n",
    "        return 2\n",
    "    return 21\n",
    "@tool\n",
    "def search_clothes(temperature: int):\n",
    "    \"\"\"Search for what you need to wear based on the temperature.\"\"\"\n",
    "    if(temperature < 10):\n",
    "        return f\"Need to wear a coat.\"\n",
    "    if(temperature < 20):\n",
    "        return f\"Need to wear a sweater.\"\n",
    "    return f\"Need to wear a T-shirt.\"\n",
    "\n",
    "\n",
    "tools = [search_temperature,search_clothes]"
   ]
  },
  {
   "cell_type": "code",
   "execution_count": null,
   "id": "01a6cda8-e48c-4a78-bf9c-a7a9e6d7b2f4",
   "metadata": {},
   "outputs": [],
   "source": [
    "Create Agent to use above tools"
   ]
  },
  {
   "cell_type": "code",
   "execution_count": 4,
   "id": "c28cee3f-910c-433d-b064-92c358a54df8",
   "metadata": {},
   "outputs": [],
   "source": [
    "from langchain_core.messages import HumanMessage\n",
    "from langchain_core.tools import tool\n",
    "from langgraph.checkpoint.memory import MemorySaver\n",
    "from langgraph.prebuilt import create_react_agent\n",
    "# Initialize memory to persist state between graph runs\n",
    "checkpointer = MemorySaver()\n",
    "prompt = \"\"\"\n",
    "Your are a smart assistant. Please think step-by-step when answering the new question, and provide a well-read answer to the user.\n",
    "\n",
    "You are given a number of tools as functions, you must use one of those tools and fillup \n",
    "all the parameters of those tools ,whose answers you will get from the given situation.\n",
    "\n",
    "First analyze the given situation to fully understand what is the intention of the user,\n",
    "what they need and exactly which tool will fill up that necessity.\n",
    "Then look into the parameters and extract all the relevant informations to fill up the \n",
    "parameter with right values.\n",
    "Finally, call the tool with the right parameters and provide the answer to the user.\n",
    "\n",
    "For example, the question is \"I am in Shanghai, what should I wear today?\".\n",
    "First, you need to search the temperature in Shanghai, and then search the clothes based on the temperature.\n",
    "Second, you need to call search_temperature with location \"Shanghai\" and call search_clothes with the temperature you get from search_temperature.\n",
    "Then, you need to provide a well-read answer base on the above method's output.\n",
    "\"\"\"\n",
    "agent_executor = create_react_agent(llm, tools,prompt=prompt, checkpointer=checkpointer)\n",
    "config = {\"configurable\": {\"thread_id\": 42}}"
   ]
  },
  {
   "cell_type": "code",
   "execution_count": null,
   "id": "5239d89f-cdc8-4af2-bd58-2699979079b9",
   "metadata": {},
   "outputs": [],
   "source": [
    "Create a file and list the files in the directory"
   ]
  },
  {
   "cell_type": "code",
   "execution_count": 5,
   "id": "a61d5939-e288-447a-a90c-86b2117edfd0",
   "metadata": {},
   "outputs": [
    {
     "name": "stdout",
     "output_type": "stream",
     "text": [
      "{'agent': {'messages': [AIMessage(content='', additional_kwargs={'tool_calls': [{'id': '0194f93ceb783ac54e6fdbe18fb079cc', 'function': {'arguments': '{\"location\": \"Dalian\"}', 'name': 'search_temperature'}, 'type': 'function'}], 'refusal': None}, response_metadata={'token_usage': {'completion_tokens': 10, 'prompt_tokens': 484, 'total_tokens': 494, 'completion_tokens_details': None, 'prompt_tokens_details': None}, 'model_name': 'THUDM/glm-4-9b-chat', 'system_fingerprint': '', 'finish_reason': 'tool_calls', 'logprobs': None}, id='run-9aaa2799-d83b-48c4-a63c-45a05dab47ad-0', tool_calls=[{'name': 'search_temperature', 'args': {'location': 'Dalian'}, 'id': '0194f93ceb783ac54e6fdbe18fb079cc', 'type': 'tool_call'}], usage_metadata={'input_tokens': 484, 'output_tokens': 10, 'total_tokens': 494, 'input_token_details': {}, 'output_token_details': {}})]}}\n",
      "----\n",
      "{'tools': {'messages': [ToolMessage(content='2', name='search_temperature', id='1151be9a-6f8d-40f5-9e4e-b4c79e705e4b', tool_call_id='0194f93ceb783ac54e6fdbe18fb079cc')]}}\n",
      "----\n",
      "{'agent': {'messages': [AIMessage(content='', additional_kwargs={'tool_calls': [{'id': 'call_MUmbHSsk0xTnvA2dNvL2LYWO', 'function': {'arguments': '{\"temperature\":2}', 'name': 'search_clothes'}, 'type': 'function'}], 'refusal': None}, response_metadata={'token_usage': {'completion_tokens': 15, 'prompt_tokens': 326, 'total_tokens': 341, 'completion_tokens_details': {'accepted_prediction_tokens': 0, 'audio_tokens': 0, 'reasoning_tokens': 0, 'rejected_prediction_tokens': 0}, 'prompt_tokens_details': {'audio_tokens': 0, 'cached_tokens': 0}}, 'model_name': 'gpt-4o', 'system_fingerprint': 'fp_f3927aa00d', 'finish_reason': 'tool_calls', 'logprobs': None}, id='run-8e657c4d-e20d-4198-99f5-3c9f3fd464e7-0', tool_calls=[{'name': 'search_clothes', 'args': {'temperature': 2}, 'id': 'call_MUmbHSsk0xTnvA2dNvL2LYWO', 'type': 'tool_call'}], usage_metadata={'input_tokens': 326, 'output_tokens': 15, 'total_tokens': 341, 'input_token_details': {'audio': 0, 'cache_read': 0}, 'output_token_details': {'audio': 0, 'reasoning': 0}})]}}\n",
      "----\n",
      "{'tools': {'messages': [ToolMessage(content='Need to wear a coat.', name='search_clothes', id='3954b259-f2dc-42fc-8be0-71c044fd6453', tool_call_id='call_MUmbHSsk0xTnvA2dNvL2LYWO')]}}\n",
      "----\n",
      "{'agent': {'messages': [AIMessage(content='', additional_kwargs={'tool_calls': [{'id': '0194f93cf56d8bc771d56ff42a63b353', 'function': {'arguments': '{\"location\": \"Dalian\"}', 'name': 'search_temperature'}, 'type': 'function'}], 'refusal': None}, response_metadata={'token_usage': {'completion_tokens': 10, 'prompt_tokens': 500, 'total_tokens': 510, 'completion_tokens_details': None, 'prompt_tokens_details': None}, 'model_name': 'THUDM/glm-4-9b-chat', 'system_fingerprint': '', 'finish_reason': 'tool_calls', 'logprobs': None}, id='run-8c227810-7797-436b-9e20-4d20bd90375b-0', tool_calls=[{'name': 'search_temperature', 'args': {'location': 'Dalian'}, 'id': '0194f93cf56d8bc771d56ff42a63b353', 'type': 'tool_call'}], usage_metadata={'input_tokens': 500, 'output_tokens': 10, 'total_tokens': 510, 'input_token_details': {}, 'output_token_details': {}})]}}\n",
      "----\n",
      "{'tools': {'messages': [ToolMessage(content='2', name='search_temperature', id='403285fd-9322-4a6d-a623-198cf3f263b7', tool_call_id='0194f93cf56d8bc771d56ff42a63b353')]}}\n",
      "----\n",
      "{'agent': {'messages': [AIMessage(content='', additional_kwargs={'tool_calls': [{'id': 'call_1uCAhwhj4NjGTEAZR2VUE9l9', 'function': {'arguments': '{\"temperature\":2}', 'name': 'search_clothes'}, 'type': 'function'}], 'refusal': None}, response_metadata={'token_usage': {'completion_tokens': 15, 'prompt_tokens': 380, 'total_tokens': 395, 'completion_tokens_details': {'accepted_prediction_tokens': 0, 'audio_tokens': 0, 'reasoning_tokens': 0, 'rejected_prediction_tokens': 0}, 'prompt_tokens_details': {'audio_tokens': 0, 'cached_tokens': 0}}, 'model_name': 'gpt-4o', 'system_fingerprint': 'fp_f3927aa00d', 'finish_reason': 'tool_calls', 'logprobs': None}, id='run-ad679d89-1e74-4798-9307-dffdd7bffd8b-0', tool_calls=[{'name': 'search_clothes', 'args': {'temperature': 2}, 'id': 'call_1uCAhwhj4NjGTEAZR2VUE9l9', 'type': 'tool_call'}], usage_metadata={'input_tokens': 380, 'output_tokens': 15, 'total_tokens': 395, 'input_token_details': {'audio': 0, 'cache_read': 0}, 'output_token_details': {'audio': 0, 'reasoning': 0}})]}}\n",
      "----\n",
      "{'tools': {'messages': [ToolMessage(content='Need to wear a coat.', name='search_clothes', id='3afad025-821b-4da2-97a7-5fa843bd91ac', tool_call_id='call_1uCAhwhj4NjGTEAZR2VUE9l9')]}}\n",
      "----\n",
      "{'agent': {'messages': [AIMessage(content=\"Today in Dalian, the temperature is quite low at 2°C. It's advisable to wear a coat to stay warm.\", additional_kwargs={'refusal': None}, response_metadata={'token_usage': {'completion_tokens': 26, 'prompt_tokens': 410, 'total_tokens': 436, 'completion_tokens_details': {'accepted_prediction_tokens': 0, 'audio_tokens': 0, 'reasoning_tokens': 0, 'rejected_prediction_tokens': 0}, 'prompt_tokens_details': {'audio_tokens': 0, 'cached_tokens': 0}}, 'model_name': 'gpt-4o', 'system_fingerprint': 'fp_f3927aa00d', 'finish_reason': 'stop', 'logprobs': None}, id='run-bf9c16ab-f0b4-4f29-9326-6ade86294aea-0', usage_metadata={'input_tokens': 410, 'output_tokens': 26, 'total_tokens': 436, 'input_token_details': {'audio': 0, 'cache_read': 0}, 'output_token_details': {'audio': 0, 'reasoning': 0}})]}}\n",
      "----\n"
     ]
    }
   ],
   "source": [
    "for chunk in agent_executor.stream(\n",
    "        {\"messages\": [HumanMessage(content=\"I am in Dalian, what should I wear today?\")]}, config\n",
    "):\n",
    "    print(chunk)\n",
    "    print(\"----\")"
   ]
  },
  {
   "cell_type": "code",
   "execution_count": null,
   "id": "2b8b43f3-96ba-4294-8f7e-13ae6804e97a",
   "metadata": {},
   "outputs": [],
   "source": []
  }
 ],
 "metadata": {
  "kernelspec": {
   "display_name": "Python 3 (ipykernel)",
   "language": "python",
   "name": "python3"
  },
  "language_info": {
   "codemirror_mode": {
    "name": "ipython",
    "version": 3
   },
   "file_extension": ".py",
   "mimetype": "text/x-python",
   "name": "python",
   "nbconvert_exporter": "python",
   "pygments_lexer": "ipython3",
   "version": "3.12.5"
  }
 },
 "nbformat": 4,
 "nbformat_minor": 5
}
