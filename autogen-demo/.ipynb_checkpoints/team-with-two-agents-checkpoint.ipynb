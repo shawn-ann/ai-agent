{
 "cells": [
  {
   "cell_type": "code",
   "execution_count": null,
   "id": "d6c748e2-d34f-4ebd-8ee7-82d0d37cf792",
   "metadata": {},
   "outputs": [],
   "source": [
    "Multiple Agents\n"
   ]
  },
  {
   "cell_type": "code",
   "execution_count": 7,
   "id": "62d0d8aa-4720-4fba-aa1f-c53ae1a2d75d",
   "metadata": {},
   "outputs": [
    {
     "name": "stdout",
     "output_type": "stream",
     "text": [
      "---------- user ----------\n",
      "Write a short poem about the fall season.\n",
      "---------- primary ----------\n",
      "As summer's warmth begins to fade,\n",
      "The fall season takes its place, displayed.\n",
      "Golden leaves rustle in the air,\n",
      "A tapestry rich beyond compare.\n",
      "\n",
      "Nature's canvas, painted bright,\n",
      "With hues of orange, red, and light.\n",
      "Crisp cool breezes whisper through,\n",
      "A soothing serenity anew.\n",
      "\n",
      "Falling raindrops tap out a beat,\n",
      "As earthy aromas start to meet.\n",
      "Winter's chill is yet to come,\n",
      "Yet in the fall, life is won.\n",
      "---------- critic ----------\n",
      "Your poem beautifully captures the essence of the fall season. The imagery is vivid and evokes a sense of coziness. The line \"A tapestry rich beyond compare\" is particularly striking, showcasing your skill with language. APPROVE\n",
      "---------- user ----------\n",
      "将这首诗用中文唐诗风格写一遍。要求中文格式。\n",
      "---------- primary ----------\n",
      "Here's the translation in Mandarin:\n",
      "\n",
      "落日温度渐冷,\n",
      "秋季入场展示.\n",
      "橘黄叶子轻响,\n",
      "绮丽的絪毯。\n",
      "\n",
      "天然画布，精彩绽出，\n",
      "红橙色调柔和明的颜色。\n",
      "干爽风语在空中轻说,\n",
      "宁静的气息开始演奏。\n",
      "\n",
      "落雨滴声拍出鼓板，\n",
      "大地的嗅觉开始合适。\n",
      "没有寒气来临，这季节,\n",
      "生命得到了胜利。\n",
      "---------- critic ----------\n",
      "Your translation maintains the original beauty of the poem while adapting it to Mandarin. The use of words like \"绮丽\" and \"宁静\" adds depth and nuance, showcasing your understanding of Tang-style poetry. APPROVE\n"
     ]
    }
   ],
   "source": [
    "import asyncio\n",
    "\n",
    "from autogen_agentchat.agents import AssistantAgent\n",
    "from autogen_agentchat.base import TaskResult\n",
    "from autogen_agentchat.conditions import ExternalTermination, TextMentionTermination\n",
    "from autogen_agentchat.teams import RoundRobinGroupChat\n",
    "from autogen_agentchat.ui import Console\n",
    "from autogen_core import CancellationToken\n",
    "from autogen_ext.models.openai import OpenAIChatCompletionClient\n",
    "\n",
    "# Define a model client. You can use other model client that implements\n",
    "# the `ChatCompletionClient` interface.\n",
    "model_client = OpenAIChatCompletionClient(\n",
    "    model=\"llama3-groq-tool-use:latest\",\n",
    "    base_url=\"http://localhost:11434/v1\",\n",
    "    api_key=\"ollama\",\n",
    "    model_info={\n",
    "        \"vision\": False,\n",
    "        \"function_calling\": True,\n",
    "        \"json_output\": False,\n",
    "        \"family\": \"unknown\",\n",
    "    },\n",
    ")\n",
    "\n",
    "# Create the primary agent.\n",
    "primary_agent = AssistantAgent(\n",
    "    \"primary\",\n",
    "    model_client=model_client,\n",
    "    system_message=\"You are a helpful AI assistant.\",\n",
    ")\n",
    "\n",
    "# Create the critic agent.\n",
    "critic_agent = AssistantAgent(\n",
    "    \"critic\",\n",
    "    model_client=model_client,\n",
    "    system_message=\"Provide constructive feedback. Respond with 'APPROVE' to when your feedbacks are addressed.\",\n",
    ")\n",
    "\n",
    "\n",
    "# Define a termination condition that stops the task if the critic approves.\n",
    "text_termination = TextMentionTermination(\"APPROVE\")\n",
    "\n",
    "# Create a team with the primary and critic agents.\n",
    "team = RoundRobinGroupChat([primary_agent, critic_agent], termination_condition=text_termination)\n",
    "\n",
    "await Console(team.run_stream(task=\"Write a short poem about the fall season.\"))\n",
    "# The new task is to translate the same poem to Chinese Tang-style poetry.\n",
    "await Console(team.run_stream(task=\"将这首诗用中文唐诗风格写一遍。要求中文格式。\"))\n",
    "await team.reset()  # Reset the team for the next run.\n"
   ]
  },
  {
   "cell_type": "code",
   "execution_count": null,
   "id": "2acf8ed0-b8e4-4da7-b62b-53bcfbf1af90",
   "metadata": {},
   "outputs": [],
   "source": []
  }
 ],
 "metadata": {
  "kernelspec": {
   "display_name": "Python 3 (ipykernel)",
   "language": "python",
   "name": "python3"
  },
  "language_info": {
   "codemirror_mode": {
    "name": "ipython",
    "version": 3
   },
   "file_extension": ".py",
   "mimetype": "text/x-python",
   "name": "python",
   "nbconvert_exporter": "python",
   "pygments_lexer": "ipython3",
   "version": "3.12.5"
  }
 },
 "nbformat": 4,
 "nbformat_minor": 5
}
